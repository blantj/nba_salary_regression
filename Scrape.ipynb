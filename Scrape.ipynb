{
 "cells": [
  {
   "cell_type": "markdown",
   "id": "94258207",
   "metadata": {},
   "source": [
    "# Import Libraries"
   ]
  },
  {
   "cell_type": "code",
   "execution_count": 3,
   "id": "49cc7269",
   "metadata": {},
   "outputs": [],
   "source": [
    "from bs4 import BeautifulSoup\n",
    "import requests\n",
    "import pandas as pd\n",
    "from selenium import webdriver\n",
    "from selenium.webdriver.chrome.options import Options\n",
    "from fake_useragent import UserAgent\n",
    "import time"
   ]
  },
  {
   "cell_type": "markdown",
   "id": "68332647",
   "metadata": {},
   "source": [
    "# Scrape NBA Stats"
   ]
  },
  {
   "cell_type": "markdown",
   "id": "6ed3c4c5",
   "metadata": {},
   "source": [
    "Get url with 2018-2019 nba 3 point stats from Basketball Reference"
   ]
  },
  {
   "cell_type": "code",
   "execution_count": 4,
   "id": "edc3d877",
   "metadata": {},
   "outputs": [],
   "source": [
    "get_headers = {'user-agent': 'Mozilla/5.0 (Macintosh; Intel Mac OS X 10_11_6) AppleWebKit/537.36 (KHTML, like Gecko) Chrome/53.0.2785.143 Safari/537.36'}\n",
    "url  = 'https://www.basketball-reference.com/leagues/NBA_2019_totals.html#totals_stats::fg3'\n",
    "response = requests.get(url, headers = get_headers, timeout=5)"
   ]
  },
  {
   "cell_type": "markdown",
   "id": "0b32373b",
   "metadata": {},
   "source": [
    "Parse stats from Basketball Reference html into stats_list"
   ]
  },
  {
   "cell_type": "code",
   "execution_count": 5,
   "id": "f1f0fe3a",
   "metadata": {},
   "outputs": [],
   "source": [
    "stats_list = []\n",
    "soup = BeautifulSoup(response.content, 'html.parser')\n",
    "table = soup.find('table', {'id' : 'totals_stats'})\n",
    "rows = table.find_all('tr', {'class': 'full_table'})\n",
    "for row in rows:\n",
    "    row_stats = []\n",
    "    tds = row.find_all('td')\n",
    "    for td in tds:\n",
    "        if len(td.find_all('a')) > 0:\n",
    "            row_stats.append(td.find('a').get_text())\n",
    "        else:\n",
    "            row_stats.append(td.get_text())\n",
    "    stats_list.append(row_stats)"
   ]
  },
  {
   "cell_type": "markdown",
   "id": "01a8af25",
   "metadata": {},
   "source": [
    "Parse column headers from Basketball Reference html into headers_list"
   ]
  },
  {
   "cell_type": "code",
   "execution_count": 6,
   "id": "03c557cb",
   "metadata": {},
   "outputs": [],
   "source": [
    "columns_list = []\n",
    "header = table.find('tr')\n",
    "labels = header.find_all('th')\n",
    "for label in labels:\n",
    "    columns_list.append(label.get_text())"
   ]
  },
  {
   "cell_type": "markdown",
   "id": "a52f96c1",
   "metadata": {},
   "source": [
    "Create df from stats_list"
   ]
  },
  {
   "cell_type": "code",
   "execution_count": 7,
   "id": "aec030b9",
   "metadata": {},
   "outputs": [
    {
     "name": "stdout",
     "output_type": "stream",
     "text": [
      "stats_df shape:  (530, 29)\n"
     ]
    },
    {
     "data": {
      "text/html": [
       "<div>\n",
       "<style scoped>\n",
       "    .dataframe tbody tr th:only-of-type {\n",
       "        vertical-align: middle;\n",
       "    }\n",
       "\n",
       "    .dataframe tbody tr th {\n",
       "        vertical-align: top;\n",
       "    }\n",
       "\n",
       "    .dataframe thead th {\n",
       "        text-align: right;\n",
       "    }\n",
       "</style>\n",
       "<table border=\"1\" class=\"dataframe\">\n",
       "  <thead>\n",
       "    <tr style=\"text-align: right;\">\n",
       "      <th></th>\n",
       "      <th>Player</th>\n",
       "      <th>Pos</th>\n",
       "      <th>Age</th>\n",
       "      <th>Tm</th>\n",
       "      <th>G</th>\n",
       "      <th>GS</th>\n",
       "      <th>MP</th>\n",
       "      <th>FG</th>\n",
       "      <th>FGA</th>\n",
       "      <th>FG%</th>\n",
       "      <th>...</th>\n",
       "      <th>FT%</th>\n",
       "      <th>ORB</th>\n",
       "      <th>DRB</th>\n",
       "      <th>TRB</th>\n",
       "      <th>AST</th>\n",
       "      <th>STL</th>\n",
       "      <th>BLK</th>\n",
       "      <th>TOV</th>\n",
       "      <th>PF</th>\n",
       "      <th>PTS</th>\n",
       "    </tr>\n",
       "  </thead>\n",
       "  <tbody>\n",
       "    <tr>\n",
       "      <th>0</th>\n",
       "      <td>Álex Abrines</td>\n",
       "      <td>SG</td>\n",
       "      <td>25</td>\n",
       "      <td>OKC</td>\n",
       "      <td>31</td>\n",
       "      <td>2</td>\n",
       "      <td>588</td>\n",
       "      <td>56</td>\n",
       "      <td>157</td>\n",
       "      <td>.357</td>\n",
       "      <td>...</td>\n",
       "      <td>.923</td>\n",
       "      <td>5</td>\n",
       "      <td>43</td>\n",
       "      <td>48</td>\n",
       "      <td>20</td>\n",
       "      <td>17</td>\n",
       "      <td>6</td>\n",
       "      <td>14</td>\n",
       "      <td>53</td>\n",
       "      <td>165</td>\n",
       "    </tr>\n",
       "    <tr>\n",
       "      <th>1</th>\n",
       "      <td>Quincy Acy</td>\n",
       "      <td>PF</td>\n",
       "      <td>28</td>\n",
       "      <td>PHO</td>\n",
       "      <td>10</td>\n",
       "      <td>0</td>\n",
       "      <td>123</td>\n",
       "      <td>4</td>\n",
       "      <td>18</td>\n",
       "      <td>.222</td>\n",
       "      <td>...</td>\n",
       "      <td>.700</td>\n",
       "      <td>3</td>\n",
       "      <td>22</td>\n",
       "      <td>25</td>\n",
       "      <td>8</td>\n",
       "      <td>1</td>\n",
       "      <td>4</td>\n",
       "      <td>4</td>\n",
       "      <td>24</td>\n",
       "      <td>17</td>\n",
       "    </tr>\n",
       "    <tr>\n",
       "      <th>2</th>\n",
       "      <td>Jaylen Adams</td>\n",
       "      <td>PG</td>\n",
       "      <td>22</td>\n",
       "      <td>ATL</td>\n",
       "      <td>34</td>\n",
       "      <td>1</td>\n",
       "      <td>428</td>\n",
       "      <td>38</td>\n",
       "      <td>110</td>\n",
       "      <td>.345</td>\n",
       "      <td>...</td>\n",
       "      <td>.778</td>\n",
       "      <td>11</td>\n",
       "      <td>49</td>\n",
       "      <td>60</td>\n",
       "      <td>65</td>\n",
       "      <td>14</td>\n",
       "      <td>5</td>\n",
       "      <td>28</td>\n",
       "      <td>45</td>\n",
       "      <td>108</td>\n",
       "    </tr>\n",
       "    <tr>\n",
       "      <th>3</th>\n",
       "      <td>Steven Adams</td>\n",
       "      <td>C</td>\n",
       "      <td>25</td>\n",
       "      <td>OKC</td>\n",
       "      <td>80</td>\n",
       "      <td>80</td>\n",
       "      <td>2669</td>\n",
       "      <td>481</td>\n",
       "      <td>809</td>\n",
       "      <td>.595</td>\n",
       "      <td>...</td>\n",
       "      <td>.500</td>\n",
       "      <td>391</td>\n",
       "      <td>369</td>\n",
       "      <td>760</td>\n",
       "      <td>124</td>\n",
       "      <td>117</td>\n",
       "      <td>76</td>\n",
       "      <td>135</td>\n",
       "      <td>204</td>\n",
       "      <td>1108</td>\n",
       "    </tr>\n",
       "    <tr>\n",
       "      <th>4</th>\n",
       "      <td>Bam Adebayo</td>\n",
       "      <td>C</td>\n",
       "      <td>21</td>\n",
       "      <td>MIA</td>\n",
       "      <td>82</td>\n",
       "      <td>28</td>\n",
       "      <td>1913</td>\n",
       "      <td>280</td>\n",
       "      <td>486</td>\n",
       "      <td>.576</td>\n",
       "      <td>...</td>\n",
       "      <td>.735</td>\n",
       "      <td>165</td>\n",
       "      <td>432</td>\n",
       "      <td>597</td>\n",
       "      <td>184</td>\n",
       "      <td>71</td>\n",
       "      <td>65</td>\n",
       "      <td>121</td>\n",
       "      <td>203</td>\n",
       "      <td>729</td>\n",
       "    </tr>\n",
       "  </tbody>\n",
       "</table>\n",
       "<p>5 rows × 29 columns</p>\n",
       "</div>"
      ],
      "text/plain": [
       "         Player Pos Age   Tm   G  GS    MP   FG  FGA   FG%  ...   FT%  ORB  \\\n",
       "0  Álex Abrines  SG  25  OKC  31   2   588   56  157  .357  ...  .923    5   \n",
       "1    Quincy Acy  PF  28  PHO  10   0   123    4   18  .222  ...  .700    3   \n",
       "2  Jaylen Adams  PG  22  ATL  34   1   428   38  110  .345  ...  .778   11   \n",
       "3  Steven Adams   C  25  OKC  80  80  2669  481  809  .595  ...  .500  391   \n",
       "4   Bam Adebayo   C  21  MIA  82  28  1913  280  486  .576  ...  .735  165   \n",
       "\n",
       "   DRB  TRB  AST  STL BLK  TOV   PF   PTS  \n",
       "0   43   48   20   17   6   14   53   165  \n",
       "1   22   25    8    1   4    4   24    17  \n",
       "2   49   60   65   14   5   28   45   108  \n",
       "3  369  760  124  117  76  135  204  1108  \n",
       "4  432  597  184   71  65  121  203   729  \n",
       "\n",
       "[5 rows x 29 columns]"
      ]
     },
     "execution_count": 7,
     "metadata": {},
     "output_type": "execute_result"
    }
   ],
   "source": [
    "columns_list.remove('Rk')\n",
    "stats_df = pd.DataFrame(stats_list, columns=columns_list)\n",
    "print('stats_df shape: ', stats_df.shape)\n",
    "stats_df.head()"
   ]
  },
  {
   "cell_type": "markdown",
   "id": "6452e4e7",
   "metadata": {},
   "source": [
    "Save df with player stats to csv"
   ]
  },
  {
   "cell_type": "code",
   "execution_count": 8,
   "id": "27e3f3e5",
   "metadata": {},
   "outputs": [],
   "source": [
    "stats_df.to_csv('Data/player_stats.csv', index=False)"
   ]
  },
  {
   "cell_type": "markdown",
   "id": "2801b037",
   "metadata": {},
   "source": [
    "# Scrape NBA Salary Data"
   ]
  },
  {
   "cell_type": "markdown",
   "id": "aef76861",
   "metadata": {},
   "source": [
    "Get url with 2018/19 season NBA salary data"
   ]
  },
  {
   "cell_type": "code",
   "execution_count": 30,
   "id": "36241223",
   "metadata": {},
   "outputs": [],
   "source": [
    "salary_url = 'https://hoopshype.com/salaries/players/2018-2019/'\n",
    "salary_response = requests.get(salary_url, headers = get_headers, timeout=5)"
   ]
  },
  {
   "cell_type": "markdown",
   "id": "5a1d814a",
   "metadata": {},
   "source": [
    "Parse html with NBA salary data"
   ]
  },
  {
   "cell_type": "code",
   "execution_count": 47,
   "id": "397850a3",
   "metadata": {},
   "outputs": [],
   "source": [
    "salary_soup = BeautifulSoup(salary_response.content, 'html.parser')\n",
    "salary_table = salary_soup.find('tbody')\n",
    "salary_rows = salary_table.find_all('tr')\n",
    "salary_data = []\n",
    "for row in salary_rows:\n",
    "    salary_row_data = []\n",
    "    for datapoint in row.find_all('td'):\n",
    "        row_data.append(datapoint.text.replace('\\t', '').replace('\\n', ''))\n",
    "    data.append(row_data)"
   ]
  },
  {
   "cell_type": "markdown",
   "id": "8e08371e",
   "metadata": {},
   "source": [
    "Load parsed NBA salary data to df"
   ]
  },
  {
   "cell_type": "code",
   "execution_count": 51,
   "id": "f6c04091",
   "metadata": {
    "scrolled": false
   },
   "outputs": [
    {
     "data": {
      "text/html": [
       "<div>\n",
       "<style scoped>\n",
       "    .dataframe tbody tr th:only-of-type {\n",
       "        vertical-align: middle;\n",
       "    }\n",
       "\n",
       "    .dataframe tbody tr th {\n",
       "        vertical-align: top;\n",
       "    }\n",
       "\n",
       "    .dataframe thead th {\n",
       "        text-align: right;\n",
       "    }\n",
       "</style>\n",
       "<table border=\"1\" class=\"dataframe\">\n",
       "  <thead>\n",
       "    <tr style=\"text-align: right;\">\n",
       "      <th></th>\n",
       "      <th>Player</th>\n",
       "      <th>Salary</th>\n",
       "      <th>Inflation Adjusted Salary</th>\n",
       "    </tr>\n",
       "  </thead>\n",
       "  <tbody>\n",
       "    <tr>\n",
       "      <th>0</th>\n",
       "      <td>Stephen Curry</td>\n",
       "      <td>$37,457,154</td>\n",
       "      <td>$38,320,489</td>\n",
       "    </tr>\n",
       "    <tr>\n",
       "      <th>1</th>\n",
       "      <td>Russell Westbrook</td>\n",
       "      <td>$35,665,000</td>\n",
       "      <td>$36,487,029</td>\n",
       "    </tr>\n",
       "    <tr>\n",
       "      <th>2</th>\n",
       "      <td>Chris Paul</td>\n",
       "      <td>$35,654,150</td>\n",
       "      <td>$36,475,929</td>\n",
       "    </tr>\n",
       "    <tr>\n",
       "      <th>3</th>\n",
       "      <td>LeBron James</td>\n",
       "      <td>$35,654,150</td>\n",
       "      <td>$36,475,929</td>\n",
       "    </tr>\n",
       "    <tr>\n",
       "      <th>4</th>\n",
       "      <td>Kyle Lowry</td>\n",
       "      <td>$32,700,000</td>\n",
       "      <td>$33,453,690</td>\n",
       "    </tr>\n",
       "  </tbody>\n",
       "</table>\n",
       "</div>"
      ],
      "text/plain": [
       "              Player       Salary Inflation Adjusted Salary\n",
       "0      Stephen Curry  $37,457,154               $38,320,489\n",
       "1  Russell Westbrook  $35,665,000               $36,487,029\n",
       "2         Chris Paul  $35,654,150               $36,475,929\n",
       "3       LeBron James  $35,654,150               $36,475,929\n",
       "4         Kyle Lowry  $32,700,000               $33,453,690"
      ]
     },
     "execution_count": 51,
     "metadata": {},
     "output_type": "execute_result"
    }
   ],
   "source": [
    "salary_df = pd.DataFrame(data, columns=['Index', 'Player', 'Salary', 'Inflation Adjusted Salary'])\n",
    "salary_df.drop(columns=['Index'], inplace=True)\n",
    "salary_df.head()"
   ]
  },
  {
   "cell_type": "markdown",
   "id": "7fe6caa8",
   "metadata": {},
   "source": [
    "Save NBA salary data to csv"
   ]
  },
  {
   "cell_type": "code",
   "execution_count": null,
   "id": "731be53c",
   "metadata": {},
   "outputs": [],
   "source": [
    "salary_df.to_csv('Data/salary.csv', index=False)"
   ]
  }
 ],
 "metadata": {
  "kernelspec": {
   "display_name": "Python 3",
   "language": "python",
   "name": "python3"
  },
  "language_info": {
   "codemirror_mode": {
    "name": "ipython",
    "version": 3
   },
   "file_extension": ".py",
   "mimetype": "text/x-python",
   "name": "python",
   "nbconvert_exporter": "python",
   "pygments_lexer": "ipython3",
   "version": "3.9.5"
  }
 },
 "nbformat": 4,
 "nbformat_minor": 5
}
