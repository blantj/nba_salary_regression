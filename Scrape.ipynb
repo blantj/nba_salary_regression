{
 "cells": [
  {
   "cell_type": "markdown",
   "id": "94258207",
   "metadata": {},
   "source": [
    "# Import Libraries"
   ]
  },
  {
   "cell_type": "code",
   "execution_count": 3,
   "id": "49cc7269",
   "metadata": {},
   "outputs": [],
   "source": [
    "from bs4 import BeautifulSoup\n",
    "import requests\n",
    "import pandas as pd\n",
    "from selenium import webdriver\n",
    "from selenium.webdriver.chrome.options import Options\n",
    "from fake_useragent import UserAgent\n",
    "import time"
   ]
  },
  {
   "cell_type": "markdown",
   "id": "68332647",
   "metadata": {},
   "source": [
    "# Scrape NBA Stats"
   ]
  },
  {
   "cell_type": "markdown",
   "id": "6ed3c4c5",
   "metadata": {},
   "source": [
    "Get url with 2018-2019 nba 3 point stats from Basketball Reference"
   ]
  },
  {
   "cell_type": "code",
   "execution_count": 4,
   "id": "edc3d877",
   "metadata": {},
   "outputs": [],
   "source": [
    "get_headers = {'user-agent': 'Mozilla/5.0 (Macintosh; Intel Mac OS X 10_11_6) AppleWebKit/537.36 (KHTML, like Gecko) Chrome/53.0.2785.143 Safari/537.36'}\n",
    "url  = 'https://www.basketball-reference.com/leagues/NBA_2019_totals.html#totals_stats::fg3'\n",
    "response = requests.get(url, headers = get_headers, timeout=5)"
   ]
  },
  {
   "cell_type": "markdown",
   "id": "0b32373b",
   "metadata": {},
   "source": [
    "Parse stats from Basketball Reference html into stats_list"
   ]
  },
  {
   "cell_type": "code",
   "execution_count": 5,
   "id": "f1f0fe3a",
   "metadata": {},
   "outputs": [],
   "source": [
    "stats_list = []\n",
    "soup = BeautifulSoup(response.content, 'html.parser')\n",
    "table = soup.find('table', {'id' : 'totals_stats'})\n",
    "rows = table.find_all('tr', {'class': 'full_table'})\n",
    "for row in rows:\n",
    "    row_stats = []\n",
    "    tds = row.find_all('td')\n",
    "    for td in tds:\n",
    "        if len(td.find_all('a')) > 0:\n",
    "            row_stats.append(td.find('a').get_text())\n",
    "        else:\n",
    "            row_stats.append(td.get_text())\n",
    "    stats_list.append(row_stats)"
   ]
  },
  {
   "cell_type": "markdown",
   "id": "01a8af25",
   "metadata": {},
   "source": [
    "Parse column headers from Basketball Reference html into headers_list"
   ]
  },
  {
   "cell_type": "code",
   "execution_count": 6,
   "id": "03c557cb",
   "metadata": {},
   "outputs": [],
   "source": [
    "columns_list = []\n",
    "header = table.find('tr')\n",
    "labels = header.find_all('th')\n",
    "for label in labels:\n",
    "    columns_list.append(label.get_text())"
   ]
  },
  {
   "cell_type": "markdown",
   "id": "a52f96c1",
   "metadata": {},
   "source": [
    "Create df from stats_list"
   ]
  },
  {
   "cell_type": "code",
   "execution_count": 7,
   "id": "aec030b9",
   "metadata": {},
   "outputs": [
    {
     "name": "stdout",
     "output_type": "stream",
     "text": [
      "stats_df shape:  (530, 29)\n"
     ]
    },
    {
     "data": {
      "text/html": [
       "<div>\n",
       "<style scoped>\n",
       "    .dataframe tbody tr th:only-of-type {\n",
       "        vertical-align: middle;\n",
       "    }\n",
       "\n",
       "    .dataframe tbody tr th {\n",
       "        vertical-align: top;\n",
       "    }\n",
       "\n",
       "    .dataframe thead th {\n",
       "        text-align: right;\n",
       "    }\n",
       "</style>\n",
       "<table border=\"1\" class=\"dataframe\">\n",
       "  <thead>\n",
       "    <tr style=\"text-align: right;\">\n",
       "      <th></th>\n",
       "      <th>Player</th>\n",
       "      <th>Pos</th>\n",
       "      <th>Age</th>\n",
       "      <th>Tm</th>\n",
       "      <th>G</th>\n",
       "      <th>GS</th>\n",
       "      <th>MP</th>\n",
       "      <th>FG</th>\n",
       "      <th>FGA</th>\n",
       "      <th>FG%</th>\n",
       "      <th>...</th>\n",
       "      <th>FT%</th>\n",
       "      <th>ORB</th>\n",
       "      <th>DRB</th>\n",
       "      <th>TRB</th>\n",
       "      <th>AST</th>\n",
       "      <th>STL</th>\n",
       "      <th>BLK</th>\n",
       "      <th>TOV</th>\n",
       "      <th>PF</th>\n",
       "      <th>PTS</th>\n",
       "    </tr>\n",
       "  </thead>\n",
       "  <tbody>\n",
       "    <tr>\n",
       "      <th>0</th>\n",
       "      <td>Álex Abrines</td>\n",
       "      <td>SG</td>\n",
       "      <td>25</td>\n",
       "      <td>OKC</td>\n",
       "      <td>31</td>\n",
       "      <td>2</td>\n",
       "      <td>588</td>\n",
       "      <td>56</td>\n",
       "      <td>157</td>\n",
       "      <td>.357</td>\n",
       "      <td>...</td>\n",
       "      <td>.923</td>\n",
       "      <td>5</td>\n",
       "      <td>43</td>\n",
       "      <td>48</td>\n",
       "      <td>20</td>\n",
       "      <td>17</td>\n",
       "      <td>6</td>\n",
       "      <td>14</td>\n",
       "      <td>53</td>\n",
       "      <td>165</td>\n",
       "    </tr>\n",
       "    <tr>\n",
       "      <th>1</th>\n",
       "      <td>Quincy Acy</td>\n",
       "      <td>PF</td>\n",
       "      <td>28</td>\n",
       "      <td>PHO</td>\n",
       "      <td>10</td>\n",
       "      <td>0</td>\n",
       "      <td>123</td>\n",
       "      <td>4</td>\n",
       "      <td>18</td>\n",
       "      <td>.222</td>\n",
       "      <td>...</td>\n",
       "      <td>.700</td>\n",
       "      <td>3</td>\n",
       "      <td>22</td>\n",
       "      <td>25</td>\n",
       "      <td>8</td>\n",
       "      <td>1</td>\n",
       "      <td>4</td>\n",
       "      <td>4</td>\n",
       "      <td>24</td>\n",
       "      <td>17</td>\n",
       "    </tr>\n",
       "    <tr>\n",
       "      <th>2</th>\n",
       "      <td>Jaylen Adams</td>\n",
       "      <td>PG</td>\n",
       "      <td>22</td>\n",
       "      <td>ATL</td>\n",
       "      <td>34</td>\n",
       "      <td>1</td>\n",
       "      <td>428</td>\n",
       "      <td>38</td>\n",
       "      <td>110</td>\n",
       "      <td>.345</td>\n",
       "      <td>...</td>\n",
       "      <td>.778</td>\n",
       "      <td>11</td>\n",
       "      <td>49</td>\n",
       "      <td>60</td>\n",
       "      <td>65</td>\n",
       "      <td>14</td>\n",
       "      <td>5</td>\n",
       "      <td>28</td>\n",
       "      <td>45</td>\n",
       "      <td>108</td>\n",
       "    </tr>\n",
       "    <tr>\n",
       "      <th>3</th>\n",
       "      <td>Steven Adams</td>\n",
       "      <td>C</td>\n",
       "      <td>25</td>\n",
       "      <td>OKC</td>\n",
       "      <td>80</td>\n",
       "      <td>80</td>\n",
       "      <td>2669</td>\n",
       "      <td>481</td>\n",
       "      <td>809</td>\n",
       "      <td>.595</td>\n",
       "      <td>...</td>\n",
       "      <td>.500</td>\n",
       "      <td>391</td>\n",
       "      <td>369</td>\n",
       "      <td>760</td>\n",
       "      <td>124</td>\n",
       "      <td>117</td>\n",
       "      <td>76</td>\n",
       "      <td>135</td>\n",
       "      <td>204</td>\n",
       "      <td>1108</td>\n",
       "    </tr>\n",
       "    <tr>\n",
       "      <th>4</th>\n",
       "      <td>Bam Adebayo</td>\n",
       "      <td>C</td>\n",
       "      <td>21</td>\n",
       "      <td>MIA</td>\n",
       "      <td>82</td>\n",
       "      <td>28</td>\n",
       "      <td>1913</td>\n",
       "      <td>280</td>\n",
       "      <td>486</td>\n",
       "      <td>.576</td>\n",
       "      <td>...</td>\n",
       "      <td>.735</td>\n",
       "      <td>165</td>\n",
       "      <td>432</td>\n",
       "      <td>597</td>\n",
       "      <td>184</td>\n",
       "      <td>71</td>\n",
       "      <td>65</td>\n",
       "      <td>121</td>\n",
       "      <td>203</td>\n",
       "      <td>729</td>\n",
       "    </tr>\n",
       "  </tbody>\n",
       "</table>\n",
       "<p>5 rows × 29 columns</p>\n",
       "</div>"
      ],
      "text/plain": [
       "         Player Pos Age   Tm   G  GS    MP   FG  FGA   FG%  ...   FT%  ORB  \\\n",
       "0  Álex Abrines  SG  25  OKC  31   2   588   56  157  .357  ...  .923    5   \n",
       "1    Quincy Acy  PF  28  PHO  10   0   123    4   18  .222  ...  .700    3   \n",
       "2  Jaylen Adams  PG  22  ATL  34   1   428   38  110  .345  ...  .778   11   \n",
       "3  Steven Adams   C  25  OKC  80  80  2669  481  809  .595  ...  .500  391   \n",
       "4   Bam Adebayo   C  21  MIA  82  28  1913  280  486  .576  ...  .735  165   \n",
       "\n",
       "   DRB  TRB  AST  STL BLK  TOV   PF   PTS  \n",
       "0   43   48   20   17   6   14   53   165  \n",
       "1   22   25    8    1   4    4   24    17  \n",
       "2   49   60   65   14   5   28   45   108  \n",
       "3  369  760  124  117  76  135  204  1108  \n",
       "4  432  597  184   71  65  121  203   729  \n",
       "\n",
       "[5 rows x 29 columns]"
      ]
     },
     "execution_count": 7,
     "metadata": {},
     "output_type": "execute_result"
    }
   ],
   "source": [
    "columns_list.remove('Rk')\n",
    "stats_df = pd.DataFrame(stats_list, columns=columns_list)\n",
    "print('stats_df shape: ', stats_df.shape)\n",
    "stats_df.head()"
   ]
  },
  {
   "cell_type": "markdown",
   "id": "6452e4e7",
   "metadata": {},
   "source": [
    "Save df with player stats to csv"
   ]
  },
  {
   "cell_type": "code",
   "execution_count": 8,
   "id": "27e3f3e5",
   "metadata": {},
   "outputs": [],
   "source": [
    "stats_df.to_csv('Data/player_stats.csv', index=False)"
   ]
  },
  {
   "cell_type": "markdown",
   "id": "eb835cbd",
   "metadata": {},
   "source": [
    "# Scrape NBA Combine Data"
   ]
  },
  {
   "cell_type": "markdown",
   "id": "8d5bd35e",
   "metadata": {},
   "source": [
    "Create Selenium webdriver"
   ]
  },
  {
   "cell_type": "code",
   "execution_count": 11,
   "id": "e349f8d2",
   "metadata": {},
   "outputs": [],
   "source": [
    "driver_path = '/Users/jesseblant/Documents/chromedriver/chromedriver'\n",
    "options = Options()\n",
    "options.add_argument(\"--window-size=1920,1200\")\n",
    "driver = webdriver.Chrome(options=options, executable_path=driver_path)"
   ]
  },
  {
   "cell_type": "markdown",
   "id": "eaecaba6",
   "metadata": {},
   "source": [
    "Create list of nba.com draft combine stat webpage urls to scrape"
   ]
  },
  {
   "cell_type": "code",
   "execution_count": 12,
   "id": "a21b5cc4",
   "metadata": {},
   "outputs": [],
   "source": [
    "urls_list = []\n",
    "for num in range(0,19):\n",
    "    num2 = f'{num+1:02}'\n",
    "    num = f'{num:02}'\n",
    "    urls_list.append(\n",
    "        f'https://www.nba.com/stats/draft/combine-anthro/?sort=HEIGHT_WO_SHOES&dir=1&SeasonYear=20{num}-{num2}')"
   ]
  },
  {
   "cell_type": "markdown",
   "id": "92ca97f5",
   "metadata": {},
   "source": [
    "Use selenium webdriver to get each nba draft combine url (This opens a window for each url, which allows nba.com to display its ad and the get to work)"
   ]
  },
  {
   "cell_type": "code",
   "execution_count": 13,
   "id": "131c780f",
   "metadata": {},
   "outputs": [],
   "source": [
    "combine_scrapes = []\n",
    "for url in urls_list:\n",
    "    driver.get(url)\n",
    "    combine_scrapes.append([url, driver.page_source])"
   ]
  },
  {
   "cell_type": "markdown",
   "id": "8e3ae0d6",
   "metadata": {},
   "source": [
    "Parse draft combine measurements from combine_scrapes"
   ]
  },
  {
   "cell_type": "code",
   "execution_count": 14,
   "id": "30b4e02c",
   "metadata": {},
   "outputs": [
    {
     "ename": "AttributeError",
     "evalue": "'NoneType' object has no attribute 'find_all'",
     "output_type": "error",
     "traceback": [
      "\u001b[0;31m---------------------------------------------------------------------------\u001b[0m",
      "\u001b[0;31mAttributeError\u001b[0m                            Traceback (most recent call last)",
      "\u001b[0;32m<ipython-input-14-d1901b192deb>\u001b[0m in \u001b[0;36m<module>\u001b[0;34m\u001b[0m\n\u001b[1;32m      4\u001b[0m     \u001b[0msoup\u001b[0m \u001b[0;34m=\u001b[0m \u001b[0mBeautifulSoup\u001b[0m\u001b[0;34m(\u001b[0m\u001b[0mcombine_scrape\u001b[0m\u001b[0;34m[\u001b[0m\u001b[0;36m1\u001b[0m\u001b[0;34m]\u001b[0m\u001b[0;34m,\u001b[0m \u001b[0;34m'html.parser'\u001b[0m\u001b[0;34m)\u001b[0m\u001b[0;34m\u001b[0m\u001b[0;34m\u001b[0m\u001b[0m\n\u001b[1;32m      5\u001b[0m     \u001b[0mtable\u001b[0m \u001b[0;34m=\u001b[0m \u001b[0msoup\u001b[0m\u001b[0;34m.\u001b[0m\u001b[0mfind\u001b[0m\u001b[0;34m(\u001b[0m\u001b[0;34m'div'\u001b[0m\u001b[0;34m,\u001b[0m \u001b[0;34m{\u001b[0m\u001b[0;34m'class'\u001b[0m\u001b[0;34m:\u001b[0m \u001b[0;34m'nba-stat-table__overflow'\u001b[0m\u001b[0;34m}\u001b[0m\u001b[0;34m)\u001b[0m\u001b[0;34m\u001b[0m\u001b[0;34m\u001b[0m\u001b[0m\n\u001b[0;32m----> 6\u001b[0;31m     \u001b[0mrows\u001b[0m \u001b[0;34m=\u001b[0m \u001b[0mtable\u001b[0m\u001b[0;34m.\u001b[0m\u001b[0mfind_all\u001b[0m\u001b[0;34m(\u001b[0m\u001b[0;34m'tr'\u001b[0m\u001b[0;34m)\u001b[0m\u001b[0;34m\u001b[0m\u001b[0;34m\u001b[0m\u001b[0m\n\u001b[0m\u001b[1;32m      7\u001b[0m     \u001b[0;32mfor\u001b[0m \u001b[0mrow\u001b[0m \u001b[0;32min\u001b[0m \u001b[0mrows\u001b[0m\u001b[0;34m[\u001b[0m\u001b[0;36m1\u001b[0m\u001b[0;34m:\u001b[0m\u001b[0;34m]\u001b[0m\u001b[0;34m:\u001b[0m\u001b[0;34m\u001b[0m\u001b[0;34m\u001b[0m\u001b[0m\n\u001b[1;32m      8\u001b[0m         \u001b[0mdatapoints\u001b[0m \u001b[0;34m=\u001b[0m \u001b[0mrow\u001b[0m\u001b[0;34m.\u001b[0m\u001b[0mfind_all\u001b[0m\u001b[0;34m(\u001b[0m\u001b[0;34m'td'\u001b[0m\u001b[0;34m)\u001b[0m\u001b[0;34m\u001b[0m\u001b[0;34m\u001b[0m\u001b[0m\n",
      "\u001b[0;31mAttributeError\u001b[0m: 'NoneType' object has no attribute 'find_all'"
     ]
    }
   ],
   "source": [
    "combine_data = []\n",
    "for combine_scrape in combine_scrapes:\n",
    "    url = combine_scrape[0]\n",
    "    soup = BeautifulSoup(combine_scrape[1], 'html.parser')\n",
    "    table = soup.find('div', {'class': 'nba-stat-table__overflow'})\n",
    "    rows = table.find_all('tr')\n",
    "    for row in rows[1:]:\n",
    "        datapoints = row.find_all('td')\n",
    "        row_data = [url.split('=')[-1]]\n",
    "        for datapoint in datapoints:\n",
    "            row_data.append(datapoint.text)\n",
    "        combine_data.append(row_data)\n",
    "            "
   ]
  },
  {
   "cell_type": "markdown",
   "id": "3e43a75d",
   "metadata": {},
   "source": [
    "Parse draft combine datapoint headers from combine_scrapes"
   ]
  },
  {
   "cell_type": "code",
   "execution_count": null,
   "id": "a9e7f876",
   "metadata": {},
   "outputs": [],
   "source": [
    "soup = BeautifulSoup(combine_scrapes[1][1], 'html.parser')\n",
    "table = soup.find('div', {'class': 'nba-stat-table__overflow'})\n",
    "row = table.find('tr')\n",
    "fields = row.find_all('th')\n",
    "headers = []\n",
    "for field in fields:\n",
    "    headers.append(field.text)"
   ]
  },
  {
   "cell_type": "markdown",
   "id": "306fc6f7",
   "metadata": {},
   "source": [
    "Clean combine datapoint headers"
   ]
  },
  {
   "cell_type": "code",
   "execution_count": null,
   "id": "00ec7d93",
   "metadata": {},
   "outputs": [],
   "source": [
    "cleaned_headers = ['Year']\n",
    "for header in headers:\n",
    "    header = header.replace('\\xa0', ' ')\n",
    "    header = header.replace('\\n', '')\n",
    "    header = header.strip()\n",
    "    header = header.title()\n",
    "    cleaned_headers.append(header)"
   ]
  },
  {
   "cell_type": "markdown",
   "id": "1deca0bd",
   "metadata": {},
   "source": [
    "Create df from list of combine measurement datapoints"
   ]
  },
  {
   "cell_type": "code",
   "execution_count": null,
   "id": "f01d1a07",
   "metadata": {},
   "outputs": [],
   "source": [
    "combine_df = pd.DataFrame(combine_data, columns=cleaned_headers)\n",
    "print('combine_df shape: ', combine_df.shape)\n",
    "combine_df.tail()"
   ]
  },
  {
   "cell_type": "markdown",
   "id": "7130d8e3",
   "metadata": {},
   "source": [
    "Save combine_df to csv"
   ]
  },
  {
   "cell_type": "code",
   "execution_count": null,
   "id": "d915204a",
   "metadata": {},
   "outputs": [],
   "source": [
    "combine_df.to_csv('Data/combine_measurements.csv', index=False)"
   ]
  },
  {
   "cell_type": "markdown",
   "id": "2801b037",
   "metadata": {},
   "source": [
    "# Scrape NBA Salary Data"
   ]
  },
  {
   "cell_type": "code",
   "execution_count": null,
   "id": "e6f30aee",
   "metadata": {},
   "outputs": [],
   "source": []
  },
  {
   "cell_type": "code",
   "execution_count": 30,
   "id": "36241223",
   "metadata": {},
   "outputs": [],
   "source": [
    "salary_url = 'https://hoopshype.com/salaries/players/2018-2019/'\n",
    "salary_response = requests.get(salary_url, headers = get_headers, timeout=5)"
   ]
  },
  {
   "cell_type": "code",
   "execution_count": null,
   "id": "f4e82080",
   "metadata": {},
   "outputs": [],
   "source": []
  },
  {
   "cell_type": "code",
   "execution_count": 47,
   "id": "397850a3",
   "metadata": {},
   "outputs": [],
   "source": [
    "salary_soup = BeautifulSoup(salary_response.content, 'html.parser')\n",
    "salary_table = salary_soup.find('tbody')\n",
    "salary_rows = salary_table.find_all('tr')\n",
    "salary_data = []\n",
    "for row in salary_rows:\n",
    "    salary_row_data = []\n",
    "    for datapoint in row.find_all('td'):\n",
    "        row_data.append(datapoint.text.replace('\\t', '').replace('\\n', ''))\n",
    "    data.append(row_data)"
   ]
  },
  {
   "cell_type": "code",
   "execution_count": null,
   "id": "c3a90393",
   "metadata": {},
   "outputs": [],
   "source": []
  },
  {
   "cell_type": "code",
   "execution_count": 51,
   "id": "f6c04091",
   "metadata": {
    "scrolled": false
   },
   "outputs": [
    {
     "data": {
      "text/html": [
       "<div>\n",
       "<style scoped>\n",
       "    .dataframe tbody tr th:only-of-type {\n",
       "        vertical-align: middle;\n",
       "    }\n",
       "\n",
       "    .dataframe tbody tr th {\n",
       "        vertical-align: top;\n",
       "    }\n",
       "\n",
       "    .dataframe thead th {\n",
       "        text-align: right;\n",
       "    }\n",
       "</style>\n",
       "<table border=\"1\" class=\"dataframe\">\n",
       "  <thead>\n",
       "    <tr style=\"text-align: right;\">\n",
       "      <th></th>\n",
       "      <th>Player</th>\n",
       "      <th>Salary</th>\n",
       "      <th>Inflation Adjusted Salary</th>\n",
       "    </tr>\n",
       "  </thead>\n",
       "  <tbody>\n",
       "    <tr>\n",
       "      <th>0</th>\n",
       "      <td>Stephen Curry</td>\n",
       "      <td>$37,457,154</td>\n",
       "      <td>$38,320,489</td>\n",
       "    </tr>\n",
       "    <tr>\n",
       "      <th>1</th>\n",
       "      <td>Russell Westbrook</td>\n",
       "      <td>$35,665,000</td>\n",
       "      <td>$36,487,029</td>\n",
       "    </tr>\n",
       "    <tr>\n",
       "      <th>2</th>\n",
       "      <td>Chris Paul</td>\n",
       "      <td>$35,654,150</td>\n",
       "      <td>$36,475,929</td>\n",
       "    </tr>\n",
       "    <tr>\n",
       "      <th>3</th>\n",
       "      <td>LeBron James</td>\n",
       "      <td>$35,654,150</td>\n",
       "      <td>$36,475,929</td>\n",
       "    </tr>\n",
       "    <tr>\n",
       "      <th>4</th>\n",
       "      <td>Kyle Lowry</td>\n",
       "      <td>$32,700,000</td>\n",
       "      <td>$33,453,690</td>\n",
       "    </tr>\n",
       "  </tbody>\n",
       "</table>\n",
       "</div>"
      ],
      "text/plain": [
       "              Player       Salary Inflation Adjusted Salary\n",
       "0      Stephen Curry  $37,457,154               $38,320,489\n",
       "1  Russell Westbrook  $35,665,000               $36,487,029\n",
       "2         Chris Paul  $35,654,150               $36,475,929\n",
       "3       LeBron James  $35,654,150               $36,475,929\n",
       "4         Kyle Lowry  $32,700,000               $33,453,690"
      ]
     },
     "execution_count": 51,
     "metadata": {},
     "output_type": "execute_result"
    }
   ],
   "source": [
    "salary_df = pd.DataFrame(data, columns=['Index', 'Player', 'Salary', 'Inflation Adjusted Salary'])\n",
    "salary_df.drop(columns=['Index'], inplace=True)\n",
    "salary_df.head()"
   ]
  },
  {
   "cell_type": "code",
   "execution_count": null,
   "id": "97cc1c50",
   "metadata": {},
   "outputs": [],
   "source": []
  },
  {
   "cell_type": "code",
   "execution_count": null,
   "id": "731be53c",
   "metadata": {},
   "outputs": [],
   "source": []
  }
 ],
 "metadata": {
  "kernelspec": {
   "display_name": "Python 3",
   "language": "python",
   "name": "python3"
  },
  "language_info": {
   "codemirror_mode": {
    "name": "ipython",
    "version": 3
   },
   "file_extension": ".py",
   "mimetype": "text/x-python",
   "name": "python",
   "nbconvert_exporter": "python",
   "pygments_lexer": "ipython3",
   "version": "3.9.5"
  }
 },
 "nbformat": 4,
 "nbformat_minor": 5
}
